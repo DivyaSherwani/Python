{
 "cells": [
  {
   "cell_type": "markdown",
   "metadata": {},
   "source": [
    "## Table of Contents\n",
    "\n",
    "#### 1.Inheritance \n",
    "\n",
    "> definition and benefits\n",
    "\n",
    ">examples\n",
    "\n",
    "#### 2. Different forms of inheritance\n",
    "##### 1. Single inheritance\n",
    "##### 2. Multiple inheritance\n",
    "##### 3. Multilevel inheritance"
   ]
  },
  {
   "cell_type": "markdown",
   "metadata": {},
   "source": [
    "##### Inheritance is the capability of one class to derive or inherit the properties from another class. \n",
    "\n",
    "###### The benefits of inheritance are: \n",
    "\n",
    ">It represents real-world relationships well.\n",
    "\n",
    ">It provides reusability of a code. We don’t have to write the same code again and again. Also, it allows us to add more \n",
    "\n",
    ">features to a class without modifying it.\n",
    "\n",
    ">It is transitive in nature, which means that if class B inherits from another class A, then all the subclasses of B would automatically inherit from class A."
   ]
  },
  {
   "cell_type": "markdown",
   "metadata": {},
   "source": [
    "##### Class B inheriting  Class A's constructor"
   ]
  },
  {
   "cell_type": "code",
   "execution_count": 1,
   "metadata": {},
   "outputs": [
    {
     "name": "stdout",
     "output_type": "stream",
     "text": [
      "rohan\n"
     ]
    }
   ],
   "source": [
    "class A:\n",
    "    def __init__(self,name,salary):\n",
    "        self.name=name\n",
    "        self.salary=12500\n",
    "    def pr(self):\n",
    "        print(self.name)\n",
    "class B(A):\n",
    "       def prin(self):\n",
    "            return self.name\n",
    "        \n",
    "rohan=B('rohan',1222)\n",
    "rohan.pr()\n",
    "        "
   ]
  },
  {
   "cell_type": "markdown",
   "metadata": {},
   "source": [
    "#### Class B inheriting class A's staticmethod"
   ]
  },
  {
   "cell_type": "code",
   "execution_count": 2,
   "metadata": {},
   "outputs": [
    {
     "name": "stdout",
     "output_type": "stream",
     "text": [
      "3\n"
     ]
    }
   ],
   "source": [
    "class A:\n",
    "    @staticmethod\n",
    "    def display(num1,num2):\n",
    "        print(num1+num2)\n",
    "\n",
    "class B(A):\n",
    "    def __init__(self,name,salary,id,position):\n",
    "        self.id=id\n",
    "        self.position=position\n",
    "\n",
    "        \n",
    "c=B('saske',12500,123,'tester')\n",
    "c.display(1,2)"
   ]
  },
  {
   "cell_type": "markdown",
   "metadata": {},
   "source": [
    "#### Class B inheriting class A's function"
   ]
  },
  {
   "cell_type": "code",
   "execution_count": 3,
   "metadata": {},
   "outputs": [
    {
     "name": "stdout",
     "output_type": "stream",
     "text": [
      "Amanda False\n",
      "Shuri True\n"
     ]
    }
   ],
   "source": [
    "# A Python program to demonstrate inheritance\n",
    "# (Generally, object is made ancestor of all classes)\n",
    "\n",
    "class Person(object):\n",
    "\t\n",
    "\t# Constructor\n",
    "\tdef __init__(self, name):\n",
    "\t\tself.name = name\n",
    "\n",
    "\t# To get name\n",
    "\tdef getName(self):\n",
    "\t\treturn self.name\n",
    "\n",
    "\t# To check if this person is an employee\n",
    "\tdef isEmployee(self):\n",
    "\t\treturn False\n",
    "\n",
    "\n",
    "# Inherited or Subclass (Note Person in bracket)\n",
    "class Employee(Person):\n",
    "\n",
    "\t# Here we return true\n",
    "\tdef isEmployee(self):\n",
    "\t\treturn True\n",
    "\n",
    "# Driver code\n",
    "emp = Person(\"Amanda\") # An Object of Person\n",
    "print(emp.getName(), emp.isEmployee())\n",
    "\n",
    "emp = Employee(\"Shuri\") # An Object of Employee\n",
    "print(emp.getName(), emp.isEmployee())\n",
    "\n"
   ]
  },
  {
   "cell_type": "markdown",
   "metadata": {},
   "source": [
    "##### Demonstration of how parent class calling works"
   ]
  },
  {
   "cell_type": "code",
   "execution_count": 4,
   "metadata": {},
   "outputs": [
    {
     "name": "stdout",
     "output_type": "stream",
     "text": [
      "Rahul\n",
      "886012\n"
     ]
    }
   ],
   "source": [
    "# Python code to demonstrate how parent constructors\n",
    "# are called.\n",
    "\n",
    "# parent class\n",
    "class Person( object ):\t\n",
    "\n",
    "\t\t# __init__ is known as the constructor\t\t\n",
    "\t\tdef __init__(self, name, idnumber):\n",
    "\t\t\t\tself.name = name\n",
    "\t\t\t\tself.idnumber = idnumber\n",
    "\t\tdef display(self):\n",
    "\t\t\t\tprint(self.name)\n",
    "\t\t\t\tprint(self.idnumber)\n",
    "\n",
    "# child class\n",
    "class Employee( Person ):\t\t\n",
    "\t\tdef __init__(self, name, idnumber, salary, post):\n",
    "\t\t\t\tself.salary = salary\n",
    "\t\t\t\tself.post = post\n",
    "\n",
    "\t\t\t\t# invoking the __init__ of the parent class\n",
    "\t\t\t\tPerson.__init__(self, name, idnumber)\n",
    "\n",
    "\t\t\t\t\n",
    "# creation of an object variable or an instance\n",
    "a = Employee('Rahul', 886012, 200000, \"Intern\")\t\n",
    "\n",
    "# calling a function of the class Person using its instance\n",
    "a.display()\n"
   ]
  },
  {
   "cell_type": "markdown",
   "metadata": {},
   "source": [
    "### 1. Single Inheritance"
   ]
  },
  {
   "cell_type": "markdown",
   "metadata": {},
   "source": [
    ">  When a child class inherits from only one parent class, it is called single inheritance\n",
    "     We saw an example above."
   ]
  },
  {
   "cell_type": "code",
   "execution_count": 5,
   "metadata": {},
   "outputs": [
    {
     "name": "stdout",
     "output_type": "stream",
     "text": [
      "3\n"
     ]
    }
   ],
   "source": [
    "class A:\n",
    "    @staticmethod\n",
    "    def display(num1,num2):\n",
    "        print(num1+num2)\n",
    "\n",
    "class B(A):\n",
    "    def __init__(self,name,salary,id,position):\n",
    "        self.id=id\n",
    "        self.position=position\n",
    "\n",
    "        \n",
    "c=B('saske',12500,123,'tester')\n",
    "c.display(1,2)"
   ]
  },
  {
   "cell_type": "markdown",
   "metadata": {},
   "source": [
    "### 2. Multiple Inheritance"
   ]
  },
  {
   "cell_type": "markdown",
   "metadata": {},
   "source": [
    "> When a child class inherits from multiple parent classes, it is called multiple inheritance. \n",
    "\n",
    ">It will inherit in chronological order pass\n",
    "\n",
    ">Unlike Java and like C++, Python supports multiple inheritance.\n",
    "We specify all parent classes as a comma-separated list in the bracket. "
   ]
  },
  {
   "cell_type": "markdown",
   "metadata": {},
   "source": [
    "##### Remember if both inherited classes have constructors the class who will inherit them will consider only constructor from first class\n",
    "##### If inheriting function has it's own constructor it will ignore parent's class instructor untill you invoke them\n",
    "\n",
    "\n",
    "\n",
    "\n"
   ]
  },
  {
   "cell_type": "markdown",
   "metadata": {},
   "source": [
    "#### In below example display() will work but prin() will not work as it is only considering A's constructor"
   ]
  },
  {
   "cell_type": "markdown",
   "metadata": {},
   "source": [
    "\n",
    "\n",
    "#### In multiple inheritance it takes classses in order as they have passed"
   ]
  },
  {
   "cell_type": "code",
   "execution_count": 6,
   "metadata": {},
   "outputs": [
    {
     "name": "stdout",
     "output_type": "stream",
     "text": [
      "I have played 7 games\n"
     ]
    }
   ],
   "source": [
    "class A:\n",
    "\tno_of_games = 6\n",
    "class B:\n",
    "\tno_of_games = 7\n",
    "class C(B,A):\n",
    "\tdef display(self):\n",
    "\t\tprint(f\"I have played {self.no_of_games} games\")\n",
    "rohan = C()\n",
    "rohan.display()"
   ]
  },
  {
   "cell_type": "code",
   "execution_count": 7,
   "metadata": {},
   "outputs": [
    {
     "name": "stdout",
     "output_type": "stream",
     "text": [
      "The name is rohan and salary is 1200\n"
     ]
    },
    {
     "ename": "AttributeError",
     "evalue": "'C' object has no attribute 'role'",
     "output_type": "error",
     "traceback": [
      "\u001b[1;31m---------------------------------------------------------------------------\u001b[0m",
      "\u001b[1;31mAttributeError\u001b[0m                            Traceback (most recent call last)",
      "\u001b[1;32m<ipython-input-7-d5a76c09d891>\u001b[0m in \u001b[0;36m<module>\u001b[1;34m\u001b[0m\n\u001b[0;32m     22\u001b[0m \u001b[0mrohan\u001b[0m\u001b[1;33m=\u001b[0m\u001b[0mC\u001b[0m\u001b[1;33m(\u001b[0m\u001b[1;34m'rohan'\u001b[0m\u001b[1;33m,\u001b[0m\u001b[1;36m1200\u001b[0m\u001b[1;33m)\u001b[0m\u001b[1;33m\u001b[0m\u001b[1;33m\u001b[0m\u001b[0m\n\u001b[0;32m     23\u001b[0m \u001b[0mprint\u001b[0m\u001b[1;33m(\u001b[0m\u001b[0mrohan\u001b[0m\u001b[1;33m.\u001b[0m\u001b[0mdisplay\u001b[0m\u001b[1;33m(\u001b[0m\u001b[1;33m)\u001b[0m\u001b[1;33m)\u001b[0m\u001b[1;33m\u001b[0m\u001b[1;33m\u001b[0m\u001b[0m\n\u001b[1;32m---> 24\u001b[1;33m \u001b[0mprint\u001b[0m\u001b[1;33m(\u001b[0m\u001b[0mrohan\u001b[0m\u001b[1;33m.\u001b[0m\u001b[0mprin\u001b[0m\u001b[1;33m(\u001b[0m\u001b[1;33m)\u001b[0m\u001b[1;33m)\u001b[0m\u001b[1;33m\u001b[0m\u001b[1;33m\u001b[0m\u001b[0m\n\u001b[0m\u001b[0;32m     25\u001b[0m \u001b[1;33m\u001b[0m\u001b[0m\n\u001b[0;32m     26\u001b[0m \u001b[1;33m\u001b[0m\u001b[0m\n",
      "\u001b[1;32m<ipython-input-7-d5a76c09d891>\u001b[0m in \u001b[0;36mprin\u001b[1;34m(self)\u001b[0m\n\u001b[0;32m     15\u001b[0m \u001b[1;33m\u001b[0m\u001b[0m\n\u001b[0;32m     16\u001b[0m         \u001b[1;32mdef\u001b[0m \u001b[0mprin\u001b[0m\u001b[1;33m(\u001b[0m\u001b[0mself\u001b[0m\u001b[1;33m)\u001b[0m\u001b[1;33m:\u001b[0m\u001b[1;33m\u001b[0m\u001b[1;33m\u001b[0m\u001b[0m\n\u001b[1;32m---> 17\u001b[1;33m                 \u001b[1;32mreturn\u001b[0m \u001b[1;34mf\"Role is {self.role} and sport he plays is {self.sport}\"\u001b[0m\u001b[1;33m\u001b[0m\u001b[1;33m\u001b[0m\u001b[0m\n\u001b[0m\u001b[0;32m     18\u001b[0m \u001b[1;33m\u001b[0m\u001b[0m\n\u001b[0;32m     19\u001b[0m \u001b[1;32mclass\u001b[0m \u001b[0mC\u001b[0m\u001b[1;33m(\u001b[0m\u001b[0mA\u001b[0m\u001b[1;33m,\u001b[0m\u001b[0mB\u001b[0m\u001b[1;33m)\u001b[0m\u001b[1;33m:\u001b[0m\u001b[1;33m\u001b[0m\u001b[1;33m\u001b[0m\u001b[0m\n",
      "\u001b[1;31mAttributeError\u001b[0m: 'C' object has no attribute 'role'"
     ]
    }
   ],
   "source": [
    "\n",
    "\n",
    "class A:\n",
    "\tdef __init__(self,name,salary):\n",
    "\t\tself.name=name\n",
    "\t\tself.salary=salary\n",
    "\n",
    "\tdef display(self):\n",
    "\t\treturn f\"The name is {self.name} and salary is {self.salary}\"\n",
    "\n",
    "class B:\n",
    "\tdef __init__(self,role,sport):\n",
    "\t\tself.role=role\n",
    "\t\tself.sport=sport\n",
    "\n",
    "\tdef prin(self):\n",
    "\t\treturn f\"Role is {self.role} and sport he plays is {self.sport}\"\n",
    "\n",
    "class C(A,B):\n",
    "\tpass\n",
    "\n",
    "rohan=C('rohan',1200)\n",
    "print(rohan.display())\n",
    "print(rohan.prin())\n",
    "\n",
    "\n",
    "\n",
    "\n"
   ]
  },
  {
   "cell_type": "code",
   "execution_count": 8,
   "metadata": {},
   "outputs": [
    {
     "name": "stdout",
     "output_type": "stream",
     "text": [
      "Role is rohan and sport he plays is 1200\n"
     ]
    },
    {
     "ename": "AttributeError",
     "evalue": "'C' object has no attribute 'name'",
     "output_type": "error",
     "traceback": [
      "\u001b[1;31m---------------------------------------------------------------------------\u001b[0m",
      "\u001b[1;31mAttributeError\u001b[0m                            Traceback (most recent call last)",
      "\u001b[1;32m<ipython-input-8-d275729dfec2>\u001b[0m in \u001b[0;36m<module>\u001b[1;34m\u001b[0m\n\u001b[0;32m     21\u001b[0m \u001b[0mrohan\u001b[0m\u001b[1;33m=\u001b[0m\u001b[0mC\u001b[0m\u001b[1;33m(\u001b[0m\u001b[1;34m'rohan'\u001b[0m\u001b[1;33m,\u001b[0m\u001b[1;36m1200\u001b[0m\u001b[1;33m)\u001b[0m\u001b[1;33m\u001b[0m\u001b[1;33m\u001b[0m\u001b[0m\n\u001b[0;32m     22\u001b[0m \u001b[0mprint\u001b[0m\u001b[1;33m(\u001b[0m\u001b[0mrohan\u001b[0m\u001b[1;33m.\u001b[0m\u001b[0mprin\u001b[0m\u001b[1;33m(\u001b[0m\u001b[1;33m)\u001b[0m\u001b[1;33m)\u001b[0m\u001b[1;33m\u001b[0m\u001b[1;33m\u001b[0m\u001b[0m\n\u001b[1;32m---> 23\u001b[1;33m \u001b[0mprint\u001b[0m\u001b[1;33m(\u001b[0m\u001b[0mrohan\u001b[0m\u001b[1;33m.\u001b[0m\u001b[0mdisplay\u001b[0m\u001b[1;33m(\u001b[0m\u001b[1;33m)\u001b[0m\u001b[1;33m)\u001b[0m\u001b[1;33m\u001b[0m\u001b[1;33m\u001b[0m\u001b[0m\n\u001b[0m\u001b[0;32m     24\u001b[0m \u001b[1;33m\u001b[0m\u001b[0m\n\u001b[0;32m     25\u001b[0m \u001b[1;33m\u001b[0m\u001b[0m\n",
      "\u001b[1;32m<ipython-input-8-d275729dfec2>\u001b[0m in \u001b[0;36mdisplay\u001b[1;34m(self)\u001b[0m\n\u001b[0;32m      6\u001b[0m \u001b[1;33m\u001b[0m\u001b[0m\n\u001b[0;32m      7\u001b[0m         \u001b[1;32mdef\u001b[0m \u001b[0mdisplay\u001b[0m\u001b[1;33m(\u001b[0m\u001b[0mself\u001b[0m\u001b[1;33m)\u001b[0m\u001b[1;33m:\u001b[0m\u001b[1;33m\u001b[0m\u001b[1;33m\u001b[0m\u001b[0m\n\u001b[1;32m----> 8\u001b[1;33m                 \u001b[1;32mreturn\u001b[0m \u001b[1;34mf\"The name is {self.name} and salary is {self.salary}\"\u001b[0m\u001b[1;33m\u001b[0m\u001b[1;33m\u001b[0m\u001b[0m\n\u001b[0m\u001b[0;32m      9\u001b[0m \u001b[1;33m\u001b[0m\u001b[0m\n\u001b[0;32m     10\u001b[0m \u001b[1;32mclass\u001b[0m \u001b[0mB\u001b[0m\u001b[1;33m:\u001b[0m\u001b[1;33m\u001b[0m\u001b[1;33m\u001b[0m\u001b[0m\n",
      "\u001b[1;31mAttributeError\u001b[0m: 'C' object has no attribute 'name'"
     ]
    }
   ],
   "source": [
    "# Here prin() will work but display() not\n",
    "class A:\n",
    "\tdef __init__(self,name,salary):\n",
    "\t\tself.name=name\n",
    "\t\tself.salary=salary\n",
    "\n",
    "\tdef display(self):\n",
    "\t\treturn f\"The name is {self.name} and salary is {self.salary}\"\n",
    "\n",
    "class B:\n",
    "\tdef __init__(self,role,sport):\n",
    "\t\tself.role=role\n",
    "\t\tself.sport=sport\n",
    "\n",
    "\tdef prin(self):\n",
    "\t\treturn f\"Role is {self.role} and sport he plays is {self.sport}\"\n",
    "\n",
    "class C(B,A):\n",
    "\tpass\n",
    "\n",
    "rohan=C('rohan',1200)\n",
    "print(rohan.prin())\n",
    "print(rohan.display())\n",
    "\n",
    "\n",
    "\n",
    "\n"
   ]
  },
  {
   "cell_type": "markdown",
   "metadata": {},
   "source": [
    "#### There is one way to overcome this problem"
   ]
  },
  {
   "cell_type": "code",
   "execution_count": 9,
   "metadata": {},
   "outputs": [
    {
     "name": "stdout",
     "output_type": "stream",
     "text": [
      "The name is rohan and salary is 1200\n",
      "Role is Ninja and sport he plays is Quidditch\n"
     ]
    }
   ],
   "source": [
    "class A:\n",
    "\tdef __init__(self,name,salary):\n",
    "\t\tself.name=name\n",
    "\t\tself.salary=salary\n",
    "\n",
    "\tdef display(self):\n",
    "\t\treturn f\"The name is {self.name} and salary is {self.salary}\"\n",
    "\n",
    "class B:\n",
    "\tdef __init__(self,role,sport):\n",
    "\t\tself.role=role\n",
    "\t\tself.sport=sport\n",
    "\n",
    "\tdef prin(self):\n",
    "\t\treturn f\"Role is {self.role} and sport he plays is {self.sport}\"\n",
    "\n",
    "class C(A,B):\n",
    "\tdef __init__(self,name,salary,role,sport):\n",
    "\t\tA.__init__(self,name,salary) #we need to invoke the parent class constructors to gain access\n",
    "\t\tB.__init__(self,role,sport)\n",
    "\n",
    "\tpass\n",
    "\n",
    "rohan=C('rohan',1200,'Ninja','Quidditch')\n",
    "print(rohan.display())\n",
    "print(rohan.prin())\n"
   ]
  },
  {
   "cell_type": "markdown",
   "metadata": {},
   "source": [
    "### 3. Multilevel Inheritance"
   ]
  },
  {
   "cell_type": "code",
   "execution_count": 10,
   "metadata": {},
   "outputs": [
    {
     "name": "stdout",
     "output_type": "stream",
     "text": [
      "I have played 6 games\n",
      "I have dances 7 times\n"
     ]
    }
   ],
   "source": [
    "class A:\n",
    "\tno_of_games=6\n",
    "\n",
    "class B(A):\n",
    "\tno_of_dances=7\n",
    "\tdef prin(self):\n",
    "\t\treturn f\"I have played {self.no_of_games} games\"\n",
    "\n",
    "class C(B):\n",
    "\tdef display(self):\n",
    "\t\treturn f\"I have dances {self.no_of_dances} times\"\n",
    "\n",
    "saske=B()\n",
    "print(saske.prin())\n",
    "rohan=C()\n",
    "print(rohan.display())\n",
    "\n"
   ]
  },
  {
   "cell_type": "markdown",
   "metadata": {},
   "source": [
    "#### for class having constructors you need to call inhereted class also"
   ]
  },
  {
   "cell_type": "code",
   "execution_count": 11,
   "metadata": {},
   "outputs": [
    {
     "ename": "AttributeError",
     "evalue": "'C' object has no attribute 'name'",
     "output_type": "error",
     "traceback": [
      "\u001b[1;31m---------------------------------------------------------------------------\u001b[0m",
      "\u001b[1;31mAttributeError\u001b[0m                            Traceback (most recent call last)",
      "\u001b[1;32m<ipython-input-11-fc4416fcda53>\u001b[0m in \u001b[0;36m<module>\u001b[1;34m\u001b[0m\n\u001b[0;32m     21\u001b[0m \u001b[1;33m\u001b[0m\u001b[0m\n\u001b[0;32m     22\u001b[0m \u001b[0mrohan\u001b[0m \u001b[1;33m=\u001b[0m \u001b[0mC\u001b[0m\u001b[1;33m(\u001b[0m\u001b[1;36m123\u001b[0m\u001b[1;33m)\u001b[0m\u001b[1;33m\u001b[0m\u001b[1;33m\u001b[0m\u001b[0m\n\u001b[1;32m---> 23\u001b[1;33m \u001b[0mprint\u001b[0m\u001b[1;33m(\u001b[0m\u001b[0mrohan\u001b[0m\u001b[1;33m.\u001b[0m\u001b[0mdisplay\u001b[0m\u001b[1;33m(\u001b[0m\u001b[1;33m)\u001b[0m\u001b[1;33m)\u001b[0m\u001b[1;33m\u001b[0m\u001b[1;33m\u001b[0m\u001b[0m\n\u001b[0m",
      "\u001b[1;32m<ipython-input-11-fc4416fcda53>\u001b[0m in \u001b[0;36mdisplay\u001b[1;34m(self)\u001b[0m\n\u001b[0;32m     17\u001b[0m \u001b[1;33m\u001b[0m\u001b[0m\n\u001b[0;32m     18\u001b[0m         \u001b[1;32mdef\u001b[0m \u001b[0mdisplay\u001b[0m\u001b[1;33m(\u001b[0m\u001b[0mself\u001b[0m\u001b[1;33m)\u001b[0m\u001b[1;33m:\u001b[0m\u001b[1;33m\u001b[0m\u001b[1;33m\u001b[0m\u001b[0m\n\u001b[1;32m---> 19\u001b[1;33m                         \u001b[1;32mreturn\u001b[0m \u001b[1;34mf\"Name from class B is {self.name}\"\u001b[0m\u001b[1;33m\u001b[0m\u001b[1;33m\u001b[0m\u001b[0m\n\u001b[0m\u001b[0;32m     20\u001b[0m \u001b[1;33m\u001b[0m\u001b[0m\n\u001b[0;32m     21\u001b[0m \u001b[1;33m\u001b[0m\u001b[0m\n",
      "\u001b[1;31mAttributeError\u001b[0m: 'C' object has no attribute 'name'"
     ]
    }
   ],
   "source": [
    "class A:\n",
    "\tno_of_games = 6\n",
    "\n",
    "\n",
    "class B(A):\n",
    "\tdef __init__(self, name):\n",
    "\t\tself.name = name\n",
    "\n",
    "\tdef prin(self):\n",
    "\t\treturn f\"Name is {self.name}\"\n",
    " \n",
    "\n",
    "\n",
    "class C(B):\n",
    "\tdef __init__(self, salary):\n",
    "\t\tself.salary = salary\n",
    "\n",
    "\tdef display(self):\n",
    "\t\t\treturn f\"Name from class B is {self.name}\"\n",
    "\n",
    "\n",
    "rohan = C(123)\n",
    "print(rohan.display())"
   ]
  },
  {
   "cell_type": "markdown",
   "metadata": {},
   "source": [
    "### You need to invoke the class also"
   ]
  },
  {
   "cell_type": "code",
   "execution_count": 12,
   "metadata": {},
   "outputs": [
    {
     "name": "stdout",
     "output_type": "stream",
     "text": [
      "Name from class B is saske\n"
     ]
    }
   ],
   "source": [
    "class A:\n",
    "\tno_of_games = 6\n",
    "\n",
    "\n",
    "class B(A):\n",
    "\tdef __init__(self, name):\n",
    "\t\tself.name = name\n",
    "\n",
    "\tdef prin(self):\n",
    "\t\treturn f\"Name is {self.name}\"\n",
    "\n",
    "\n",
    "class C(B):\n",
    "\tdef __init__(self, salary, name):\n",
    "\t\tself.salary = salary\n",
    "\n",
    "\t\tB.__init__(self, name)\n",
    "\n",
    "\n",
    "\tdef display(self):\n",
    "\t\treturn f\"Name from class B is {self.name}\"\n",
    "\n",
    "\n",
    "rohan = C(123, 'saske')\n",
    "print(rohan.display())\n",
    "\n"
   ]
  }
 ],
 "metadata": {
  "kernelspec": {
   "display_name": "Python 3",
   "language": "python",
   "name": "python3"
  },
  "language_info": {
   "codemirror_mode": {
    "name": "ipython",
    "version": 3
   },
   "file_extension": ".py",
   "mimetype": "text/x-python",
   "name": "python",
   "nbconvert_exporter": "python",
   "pygments_lexer": "ipython3",
   "version": "3.7.1"
  }
 },
 "nbformat": 4,
 "nbformat_minor": 5
}
